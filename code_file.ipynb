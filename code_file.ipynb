import pandas as pd
import numpy as np
from sklearn.preprocessing import StandardScaler, OneHotEncoder
from sklearn.compose import ColumnTransformer
from sklearn.pipeline import Pipeline

# -------------------------------------------------------------
# STEP 1: EXTRACT - Load the raw dataset
# -------------------------------------------------------------

df = pd.read_csv('/content/DIM_FOODS_VEG.csv')
print("Data loaded successfully!")
print(df.head())

# -------------------------------------------------------------
# STEP 2: IDENTIFY FEATURES
# -------------------------------------------------------------
numeric_features = df.select_dtypes(include=['int64', 'float64']).columns.tolist()
categorical_features = df.select_dtypes(include=['object']).columns.tolist()

print(f"Numeric features: {numeric_features}")
print(f"Categorical features: {categorical_features}")

# -------------------------------------------------------------
# STEP 3: TRANSFORM - Handle missing values, scale, encode
# -------------------------------------------------------------

# Fill missing numeric values
for col in numeric_features:
    df[col] = df[col].fillna(df[col].mean())

# Scale numeric features
scaler = StandardScaler()
df[numeric_features] = scaler.fit_transform(df[numeric_features])

# Fill missing categorical values
df[categorical_features] = df[categorical_features].fillna('missing')

# One-hot encode categorical features
encoder = OneHotEncoder(handle_unknown='ignore', sparse_output=False)
encoded_cats = encoder.fit_transform(df[categorical_features])
encoded_cat_cols = encoder.get_feature_names_out(categorical_features)
df_encoded_cats = pd.DataFrame(encoded_cats, columns=encoded_cat_cols)

# Drop original categorical columns and concatenate encoded ones
df_final = pd.concat([df.drop(columns=categorical_features), df_encoded_cats], axis=1)

# -------------------------------------------------------------
# STEP 4: LOAD - Save the processed dataset
# -------------------------------------------------------------
df_final.to_csv('transformed_data.csv', index=False)
print("ETL pipeline complete! Transformed data saved as 'transformed_data.csv'.")
